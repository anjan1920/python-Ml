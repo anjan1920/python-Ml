{
 "cells": [
  {
   "cell_type": "code",
   "execution_count": 43,
   "id": "add3a7d1",
   "metadata": {},
   "outputs": [
    {
     "name": "stdout",
     "output_type": "stream",
     "text": [
      "      Name  Age  salary  performance_score\n",
      "0    Anjan   20   30000                 90\n",
      "1    Raman   21   33000                 85\n",
      "2    Rahul   20   36000                 89\n",
      "3  Kallyan   22   28000                 90\n",
      "   Emp_id     Name  Age  salary  performance_score\n",
      "0    1002    Anjan   20   30000                 90\n",
      "1    2001    Raman   21   33000                 85\n",
      "2    1012    Rahul   20   36000                 89\n",
      "3    1035  Kallyan   22   28000                 90\n"
     ]
    }
   ],
   "source": [
    "import pandas as pd\n",
    "\n",
    "data = {\n",
    "    'Name' : [\"Anjan\",\"Raman\",\"Rahul\",\"Kallyan\"],\n",
    "    \"Age\": [20,21,20,22],\n",
    "    \"salary\":[30000,33000,36000,28000],\n",
    "    \"performance_score\":[90,85,89,90]\n",
    "\n",
    "}\n",
    "\n",
    "df = pd.DataFrame(data)\n",
    "print(df)\n",
    "\n",
    "#introduce new column\n",
    "#df[\"Bouns\" ] = df[\"salary\"] * 0.2 * df['prrformance_score']*0.01\n",
    "\n",
    "#print(df)\n",
    "#same using insert column  at specific position\n",
    "\n",
    "#df.insert(loc,column name,data)\n",
    "df.insert(0,\"Emp_id\",[1002,2001,1012,1035])\n",
    "print(df)\n",
    "\n",
    "\n",
    "\n",
    "\n"
   ]
  },
  {
   "cell_type": "code",
   "execution_count": 44,
   "id": "bb411b0a",
   "metadata": {},
   "outputs": [
    {
     "name": "stdout",
     "output_type": "stream",
     "text": [
      "   Emp_id     Name  Age  salary  performance_score  bonus_basedScores\n",
      "0    1002    Anjan   20   35000                 90               3500\n",
      "1    2001    Raman   21   33000                 85                330\n",
      "2    1012    Rahul   20   36000                 89               3600\n",
      "3    1035  Kallyan   22   28000                 90               2800\n"
     ]
    }
   ],
   "source": [
    "# #updating values\n",
    "# print(df)\n",
    "# # .loc[] access specific cell and modify\n",
    "#df.loc[row_index,'col_name' ]new_value\n",
    "\n",
    "# #lets update the salary of anjan\n",
    "df.loc[0,'salary'] = 35000\n",
    "# print(df)\n",
    "\n",
    "# #updating multiple \n",
    " #update all salary by 5%\n",
    "#df['salary'] = df['salary'] + df['salary']* 0.5\n",
    "\n",
    "#give bonus of of 1% which have performance sore >85\n",
    "\n",
    "df['bonus_basedScores'] = 0  # Create the new column\n",
    "\n",
    "for i in range(len(df)):\n",
    "    if df.loc[i, 'performance_score'] > 85:\n",
    "        df.loc[i, 'bonus_basedScores'] = df.loc[i, 'salary'] * 0.1\n",
    "    else :\n",
    "        df.loc[i, 'bonus_basedScores'] = df.loc[i, 'salary'] * 0.01\n",
    "#same thing\n",
    "# Create bonus column based on condition\n",
    "#df['bonus_basedScores'] = df['salary'] * 0.1 * (df['performance_score'] > 85) + df['salary'] * 0.01 * (df['performance_score'] <= 85)\n",
    "# The '+' combines two mutually exclusive conditions.\n",
    "# It’s a trick to simulate if-else logic in a clean, vectorized way.\n",
    "\n",
    "        \n",
    "print(df)"
   ]
  },
  {
   "cell_type": "code",
   "execution_count": 45,
   "id": "20a3cd35",
   "metadata": {},
   "outputs": [
    {
     "name": "stdout",
     "output_type": "stream",
     "text": [
      "   Emp_id     Name  Age  salary  performance_score\n",
      "0    1002    Anjan   20   35000                 90\n",
      "1    2001    Raman   21   33000                 85\n",
      "2    1012    Rahul   20   36000                 89\n",
      "3    1035  Kallyan   22   28000                 90\n"
     ]
    }
   ],
   "source": [
    "#remove columns\n",
    "df.drop(columns=[\"bonus_basedScores\"], inplace= True)\n",
    "#multiple columns and row df.drop(columns=[\"col1\",\"col2\"], inplace= True)\n",
    "#inplace = true modify the original data frame\n",
    "\n",
    "print(df)"
   ]
  },
  {
   "cell_type": "code",
   "execution_count": 46,
   "id": "9d06ca8d",
   "metadata": {},
   "outputs": [
    {
     "name": "stdout",
     "output_type": "stream",
     "text": [
      "    Name    Age  salary  performance_score\n",
      "0  False  False   False              False\n",
      "1  False  False   False               True\n",
      "2  False  False    True              False\n",
      "3  False   True   False              False\n"
     ]
    }
   ],
   "source": [
    "#handling the missing data \n",
    "#there are some inbuilt pandas method doe this \n",
    "\n",
    "#NAN - > Not a  number\n",
    "#None (for object data type)\n",
    "\n",
    "#isnull() --> T /F , T-> missing value\n",
    "# \n",
    "data01= {\n",
    "    'Name' : [\"Shibam\",\"Raman\",\"Shubho\",\"Ram\"],\n",
    "    \"Age\": [20,21,20,None],\n",
    "    \"salary\":[30000,33000,None,28000],\n",
    "    \"performance_score\":[90,None,89,90]\n",
    "\n",
    "}\n",
    "df01 = pd.DataFrame(data01)\n",
    "print(df01.isnull())\n",
    "\n",
    "\n"
   ]
  },
  {
   "cell_type": "code",
   "execution_count": 47,
   "id": "bd030603",
   "metadata": {},
   "outputs": [
    {
     "name": "stdout",
     "output_type": "stream",
     "text": [
      "Name                 0\n",
      "Age                  1\n",
      "salary               1\n",
      "performance_score    1\n",
      "dtype: int64\n"
     ]
    }
   ],
   "source": [
    "#count missing values dum\n",
    "print(df01.isnull().sum())\n"
   ]
  },
  {
   "cell_type": "code",
   "execution_count": 48,
   "id": "be137b7f",
   "metadata": {},
   "outputs": [
    {
     "name": "stdout",
     "output_type": "stream",
     "text": [
      "     Name   Age   salary  performance_score\n",
      "0  Shibam  20.0  30000.0               90.0\n",
      "1   Raman  21.0  33000.0                NaN\n",
      "2  Shubho  20.0      NaN               89.0\n",
      "3     Ram   NaN  28000.0               90.0\n",
      "Modified\n",
      "Final Table \n",
      "     Name   Age   salary  performance_score\n",
      "0  Shibam  20.0  30000.0               90.0\n"
     ]
    }
   ],
   "source": [
    "#handling  the missing data\n",
    "\n",
    "#drop the missing data\n",
    "\n",
    "#like we drop the row here lets say\n",
    "print(df01)\n",
    "\n",
    "print(\"Modified\")\n",
    "#print(df01.dropna(axis=1 )) # remove all the column with missing none \n",
    "#no inline mention so no original modification\n",
    "print(f\"Final Table \\n{df01.dropna(axis=0)}\") #remove all the row with none\n"
   ]
  },
  {
   "cell_type": "code",
   "execution_count": 49,
   "id": "e4b68a09",
   "metadata": {},
   "outputs": [
    {
     "name": "stdout",
     "output_type": "stream",
     "text": [
      "Original data table \n",
      "      Name   Age   salary  performance_score\n",
      "0  Shibam  20.0  30000.0               90.0\n",
      "1   Raman  21.0  33000.0                NaN\n",
      "2  Shubho  20.0      NaN               89.0\n",
      "3     Ram   NaN  28000.0               90.0\n",
      "  Modified Age Column :\n",
      "  0    20.0\n",
      "1    21.0\n",
      "2    20.0\n",
      "3    20.0\n",
      "Name: Age, dtype: float64    \n"
     ]
    }
   ],
   "source": [
    "import math\n",
    "#fill the missing values with something else\n",
    "print(f\"Original data table \\n {df01}\")\n",
    "\n",
    "#set the age with the min of the age \n",
    "print(f\"  Modified Age Column :\\n  { df01['Age'].fillna( math.floor(df['Age'].mean())) }    \")\n",
    "#the age column will be fill with the mean of the age \n",
    "\n",
    "\n"
   ]
  },
  {
   "cell_type": "code",
   "execution_count": 50,
   "id": "e77d9828",
   "metadata": {},
   "outputs": [
    {
     "name": "stdout",
     "output_type": "stream",
     "text": [
      "     Name   Age   salary  performance_score\n",
      "0  Shibam  20.0  30000.0               90.0\n",
      "1   Raman  21.0  33000.0                NaN\n",
      "2  Shubho  20.0      NaN               89.0\n",
      "3     Ram   NaN  28000.0               90.0\n",
      "After interpolation \n",
      "\n",
      "     Name   Age   salary  performance_score\n",
      "0  Shibam  20.0  30000.0               90.0\n",
      "1   Raman  21.0  33000.0               89.5\n",
      "2  Shubho  20.0      NaN               89.0\n",
      "3     Ram  20.0  28000.0               90.0\n"
     ]
    }
   ],
   "source": [
    "#use the interpolation ->replace the missing with data \n",
    "#interpolation use a estimate value base on other data on the column\n",
    "#avoid the data loss\n",
    "#interpolate()\n",
    "print(df01)\n",
    "#df01.interpolate(method='linear',axis=0,inplace=True) #apply on rows\n",
    "#types of interpolation ->liner ,polynomial,time , quadratic ...\n",
    "\n",
    "print(\"After interpolation \\n\")\n",
    "df01['Age'] = df01['Age'].interpolate(method='linear')\n",
    "df01['performance_score'] = df01['performance_score'].interpolate(method='linear')\n",
    "print(df01)\n"
   ]
  },
  {
   "cell_type": "code",
   "execution_count": 51,
   "id": "b15a7aeb",
   "metadata": {},
   "outputs": [
    {
     "name": "stdout",
     "output_type": "stream",
     "text": [
      "    Name  Age  Roll\n",
      "0   Arun   19     3\n",
      "1  barun   21     1\n",
      "2  Traun   20     2\n",
      "Sorting the data Frame based on only age column\n",
      "    Name  Age  Roll\n",
      "0   Arun   19     3\n",
      "2  Traun   20     2\n",
      "1  barun   21     1\n",
      "Sorting the dataFrame by age descending and roll ascending\n",
      "    Name  Age  Roll\n",
      "1  barun   21     1\n",
      "2  Traun   20     2\n",
      "0   Arun   19     3\n",
      "Sorting the DataFrame Alphabetically (case-insensitive)\n",
      "    Name  Age  Roll\n",
      "0   Arun   19     3\n",
      "1  barun   21     1\n",
      "2  Traun   20     2\n"
     ]
    }
   ],
   "source": [
    "#sorting and aggregation\n",
    "\n",
    "\n",
    "student_list = {\n",
    "    \"Name\":[\"Arun\",\"barun\",\"Traun\"],\n",
    "    \"Age\":[19,21,20],\n",
    "    \"Roll\":[3,1,2]\n",
    "}\n",
    "\n",
    "df_student_list = pd.DataFrame(student_list)\n",
    "print(df_student_list)\n",
    "\n",
    "print(\"Sorting the data Frame based on only age column\")\n",
    "\n",
    "#df.sort_values(by='col1',ascending=True,inplace=True)\n",
    "print(df_student_list.sort_values(by='Age',ascending=True))\n",
    "\n",
    "#sorting based on multiple column \n",
    "#df.sort_values(by=['col1','col2'],ascending=[True,False],inplace=True)\n",
    "print(\"Sorting the dataFrame by age descending and roll ascending\")\n",
    "\n",
    "print(df_student_list.sort_values(by=['Age',\"Roll\"], ascending=[False,True]))\n",
    "\n",
    "#lets sort by name A>b>c..\n",
    "df_student_list_sorted = df_student_list.sort_values(by='Name', key=lambda x: x.str.lower())\n",
    "print(\"Sorting the DataFrame Alphabetically (case-insensitive)\")\n",
    "print(df_student_list_sorted)\n"
   ]
  },
  {
   "cell_type": "code",
   "execution_count": 52,
   "id": "d3e543e4",
   "metadata": {},
   "outputs": [
    {
     "name": "stdout",
     "output_type": "stream",
     "text": [
      "      Name Sec  Age\n",
      "0   Tanmay   A   19\n",
      "1     Tanu   B   17\n",
      "2  kallyan   A   18\n",
      "3    Subho   C   19\n",
      "4    Bapan   B   18\n",
      "5     Deba   A   17\n",
      "Sec\n",
      "A    17\n",
      "B    17\n",
      "C    19\n",
      "Name: Age, dtype: int64\n"
     ]
    }
   ],
   "source": [
    "#grouping in pandas\n",
    "\n",
    "class_10_students = {\n",
    "    \"Name\":[\"Tanmay\",\"Tanu\",\"kallyan\",\"Subho\",\"Bapan\",\"Deba\"],\n",
    "    \"Sec\" :[\"A\",\"B\",\"A\",\"C\",\"B\",\"A\"],\n",
    "    \"Age\" :[19,17,18,19,18,17]\n",
    "}\n",
    "df_class_10_students = pd.DataFrame(class_10_students)\n",
    "print(df_class_10_students)\n",
    "\n",
    "#group based on sec and find the min age \n",
    "group_by_sec = df_class_10_students.groupby(\"Sec\") [\"Age\"].min()\n",
    "print(group_by_sec)\n",
    "#print(type(group_by_sec))\n",
    "#print(group_by_sec[\"A\"])\n",
    "\n",
    "\n",
    "#group by multiple column\n",
    "\n",
    "#pass as a list form groupby([\"col1\",\"col2\"]).aggregation()..\n",
    "\n"
   ]
  },
  {
   "cell_type": "code",
   "execution_count": 53,
   "id": "abc641ec",
   "metadata": {},
   "outputs": [
    {
     "name": "stdout",
     "output_type": "stream",
     "text": [
      "   ID   Name\n",
      "0   1    Ram\n",
      "1   2  Rahul\n",
      "2   3   Riya\n",
      "   ID  OrderAmount\n",
      "0   1         2500\n",
      "1   2          560\n",
      "2   4          100\n",
      "   ID   Name  OrderAmount\n",
      "0   1    Ram       2500.0\n",
      "1   2  Rahul        560.0\n",
      "2   3   Riya          NaN\n",
      "3   4    NaN        100.0\n"
     ]
    }
   ],
   "source": [
    "# Creating the customer DataFrame\n",
    "df_customer = pd.DataFrame({\n",
    "    \"ID\": [1, 2, 3],\n",
    "    \"Name\": [\"Ram\", \"Rahul\", \"Riya\"]\n",
    "})\n",
    "\n",
    "# Creating the order DataFrame\n",
    "df_customer_order = pd.DataFrame({\n",
    "    \"ID\": [1, 2, 4],\n",
    "    \"OrderAmount\": [2500, 560, 100]\n",
    "})\n",
    "\n",
    "print(df_customer)\n",
    "print(df_customer_order)\n",
    "\n",
    "# Merging the DataFrames using 'outer' join on the 'ID' column\n",
    "df_merged = pd.merge(df_customer, df_customer_order, on=\"ID\", how=\"outer\")\n",
    "\n",
    "# Explanation:\n",
    "# 'on' specifies the common key (column) to merge on, here it's 'ID'.\n",
    "# 'outer' join returns all rows from both DataFrames.\n",
    "#   - If there's no match for an ID, it fills the missing values with NaN.\n",
    "# 'left' join returns all rows from the left DataFrame (df_customer),\n",
    "#   - and fills missing data from the right with NaN if no match is found.\n",
    "# 'right' join is the reverse — keeps all rows from the right DataFrame.\n",
    "# 'cross' join returns the Cartesian product (all possible combinations of rows).\n",
    "\n",
    "print(df_merged)\n"
   ]
  },
  {
   "cell_type": "code",
   "execution_count": null,
   "id": "b1c198b5",
   "metadata": {},
   "outputs": [],
   "source": []
  }
 ],
 "metadata": {
  "kernelspec": {
   "display_name": "base",
   "language": "python",
   "name": "python3"
  },
  "language_info": {
   "codemirror_mode": {
    "name": "ipython",
    "version": 3
   },
   "file_extension": ".py",
   "mimetype": "text/x-python",
   "name": "python",
   "nbconvert_exporter": "python",
   "pygments_lexer": "ipython3",
   "version": "3.12.7"
  }
 },
 "nbformat": 4,
 "nbformat_minor": 5
}
